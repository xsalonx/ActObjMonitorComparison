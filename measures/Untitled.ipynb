{
 "cells": [
  {
   "cell_type": "code",
   "execution_count": 9,
   "id": "16667373",
   "metadata": {},
   "outputs": [],
   "source": [
    "import re\n",
    "import sys\n",
    "import numpy as np\n",
    "import pandas as pd\n",
    "import seaborn as sns\n",
    "import matplotlib\n",
    "matplotlib.use('TkAgg')\n",
    "import matplotlib.pyplot as plt\n",
    "\n",
    "%matplotlib inline\n",
    "\n",
    "pd.set_option('display.max_columns', None)\n",
    "pd.set_option('display.max_rows', 20)\n",
    "pd.set_option('display.max_colwidth', None)\n",
    "pd.set_option('display.width', None)"
   ]
  },
  {
   "cell_type": "code",
   "execution_count": 10,
   "id": "9aeb7e4d",
   "metadata": {},
   "outputs": [],
   "source": [
    "\n",
    "def splliter(data, i):\n",
    "    f = lambda a: float(a.replace(',', '.'))\n",
    "\n",
    "    splitted = list(filter(''.__ne__, data.split('\\n')))\n",
    "    splitted = [re.split(' +', re.split(': +', l)[1]) for l in splitted[i:]]\n",
    "    splitted = [list(map(f, l)) for l in splitted]\n",
    "    splitted = [sum(l) / len(l) for l in splitted]\n",
    "\n",
    "    return splitted\n",
    "\n",
    "\n",
    "def oneRecordToDict(r):\n",
    "    times = r[0]\n",
    "    access = r[1]\n",
    "\n",
    "    spllited = list(filter(''.__ne__, times.split('\\n')))\n",
    "    params = spllited[0][1:-1].split(', ')\n",
    "    for i in range(1, len(params)):\n",
    "        params[i] = int(params[i])\n",
    "\n",
    "    d = {}\n",
    "#     d['subject'] = params[0]\n",
    "    d['p_numb'] = params[1]\n",
    "    d['c_num'] = params[2]\n",
    "    d['bufferSize'] = params[3]\n",
    "    d['optNumbCoeff'] = params[4]\n",
    "    d['complReqOptNumbCoeff'] = params[5]\n",
    "    d['actionCostCoeff'] = params[6]\n",
    "    \n",
    "\n",
    "    timesSplit = splliter(times, 3)\n",
    "\n",
    "    d['p_time'] = timesSplit[0]\n",
    "    d['p_cput'] = timesSplit[1]\n",
    "    d['p_meas.'] = timesSplit[2]\n",
    "    d['c_time'] = timesSplit[3]\n",
    "    d['c_cput'] = timesSplit[4]\n",
    "    d['c_meas.'] = timesSplit[5]\n",
    "\n",
    "    accessSplit = splliter(access, 1)\n",
    "\n",
    "    d['p_access'] = accessSplit[0]\n",
    "    d['p_compl'] = accessSplit[1]\n",
    "    d['p_ratio'] = accessSplit[2]\n",
    "    d['c_access'] = accessSplit[3]\n",
    "    d['c_compl'] = accessSplit[4]\n",
    "    d['c_ratio'] = accessSplit[5]\n",
    "    return d\n",
    "\n",
    "\n",
    "def parse(path):\n",
    "    content = \"\"\n",
    "    with open(path) as fh:\n",
    "        content = fh.read()\n",
    "    content = content.replace(\"tasks\", \"tasks:\").replace(\"times\", \"times:\").replace(\"ratios\", \"ratios:\")\n",
    "    measures = re.split(\"_+\\n\", content)\n",
    "    measures = [re.split(\"-+\\n\", m) for m in measures][:-1]\n",
    "\n",
    "    measures = [oneRecordToDict(r) for r in measures]\n",
    "\n",
    "    measures = pd.DataFrame.from_records(measures)\n",
    "\n",
    "    return measures\n"
   ]
  },
  {
   "cell_type": "markdown",
   "id": "97b3f8af",
   "metadata": {},
   "source": [
    "'p_numb', 'c_num', 'bufferSize', 'optNumbCoeff', 'complReqOptNumbCoeff', 'actionCostCoeff',\n",
    "\n",
    "'p_time', 'p_cput', 'p_meas.', 'c_time', 'c_cput', 'c_meas.',\n",
    "\n",
    "'p_access', 'p_compl', 'p_ratio', 'c_access', 'c_compl', 'c_ratio'"
   ]
  },
  {
   "cell_type": "code",
   "execution_count": 30,
   "id": "e77e8a07",
   "metadata": {},
   "outputs": [],
   "source": [
    "pathBuffer = 'res-buffer.txt'\n",
    "pathActObject = 'res-actObject.txt'\n",
    "\n",
    "measuresBuffer = parse(pathBuffer)\n",
    "measureActObject = parse(pathActObject)"
   ]
  },
  {
   "cell_type": "code",
   "execution_count": 31,
   "id": "a0006dfa",
   "metadata": {},
   "outputs": [
    {
     "data": {
      "text/plain": [
       "<AxesSubplot:xlabel='actionCostCoeff', ylabel='optNumbCoeff'>"
      ]
     },
     "execution_count": 31,
     "metadata": {},
     "output_type": "execute_result"
    },
    {
     "data": {
      "image/png": "[encoded data removed]",
      "text/plain": [
       "<Figure size 432x288 with 2 Axes>"
      ]
     },
     "metadata": {
      "needs_background": "light"
     },
     "output_type": "display_data"
    }
   ],
   "source": [
    "data = pd.pivot_table(measuresBuffer, values='c_time', \n",
    "                     index=['optNumbCoeff'], \n",
    "                     columns='actionCostCoeff')\n",
    "sns.heatmap(data)\n"
   ]
  },
  {
   "cell_type": "code",
   "execution_count": 32,
   "id": "bde2005e",
   "metadata": {},
   "outputs": [
    {
     "data": {
      "text/plain": [
       "<AxesSubplot:xlabel='actionCostCoeff', ylabel='optNumbCoeff'>"
      ]
     },
     "execution_count": 32,
     "metadata": {},
     "output_type": "execute_result"
    },
    {
     "data": {
      "image/png": "[encoded data removed]",
      "text/plain": [
       "<Figure size 432x288 with 2 Axes>"
      ]
     },
     "metadata": {
      "needs_background": "light"
     },
     "output_type": "display_data"
    }
   ],
   "source": [
    "data = pd.pivot_table(measureActObject, values='c_time', \n",
    "                     index=['optNumbCoeff'], \n",
    "                     columns='actionCostCoeff')\n",
    "sns.heatmap(data)"
   ]
  },
  {
   "cell_type": "code",
   "execution_count": null,
   "id": "a1a3909d",
   "metadata": {},
   "outputs": [],
   "source": []
  }
 ],
 "metadata": {
  "kernelspec": {
   "display_name": "Python 3",
   "language": "python",
   "name": "python3"
  },
  "language_info": {
   "codemirror_mode": {
    "name": "ipython",
    "version": 3
   },
   "file_extension": ".py",
   "mimetype": "text/x-python",
   "name": "python",
   "nbconvert_exporter": "python",
   "pygments_lexer": "ipython3",
   "version": "3.8.8"
  }
 },
 "nbformat": 4,
 "nbformat_minor": 5
}
